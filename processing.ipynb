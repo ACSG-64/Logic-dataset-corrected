{
 "cells": [
  {
   "cell_type": "code",
   "execution_count": 1,
   "id": "857279f0",
   "metadata": {},
   "outputs": [],
   "source": [
    "import pandas as pd"
   ]
  },
  {
   "cell_type": "code",
   "execution_count": 2,
   "id": "18a58b63",
   "metadata": {},
   "outputs": [],
   "source": [
    "df_original = pd.read_csv('edu_all.csv')\n",
    "df_reviwed = pd.read_csv('edu_all_fixed.csv')\n",
    "df_final = pd.read_csv('edu_all_processed_FINAL.csv')"
   ]
  },
  {
   "cell_type": "code",
   "execution_count": 3,
   "id": "a8e7ca8d",
   "metadata": {},
   "outputs": [],
   "source": [
    "def normalize_spaces(dataframe, column):\n",
    "    patterns  =['\\n', '\\r', '\\r\\n', r'\\s+']\n",
    "    for pattern in patterns:\n",
    "        dataframe[column] = dataframe[column].str.replace(pattern, ' ', regex=True)\n",
    "    dataframe[column] = dataframe[column].str.strip()\n",
    "    return dataframe"
   ]
  },
  {
   "cell_type": "code",
   "execution_count": 4,
   "id": "cc1112f9",
   "metadata": {},
   "outputs": [],
   "source": [
    "def normalize_quotes(dataframe, column):\n",
    "    \"\"\"Remove consecutive quotation marks and replace with single quotes\"\"\"\n",
    "    # Replace multiple consecutive double quotes with single double quote\n",
    "    dataframe[column] = dataframe[column].str.replace(r'\"+', '\"', regex=True)\n",
    "    # Replace multiple consecutive single quotes with single quote\n",
    "    dataframe[column] = dataframe[column].str.replace(r\"'+\", \"'\", regex=True)\n",
    "    return dataframe"
   ]
  },
  {
   "cell_type": "code",
   "execution_count": 5,
   "id": "c9da1ce8",
   "metadata": {},
   "outputs": [],
   "source": [
    "df_original = normalize_spaces(df_original, 'source_article')\n",
    "df_reviwed = normalize_spaces(df_reviwed, 'source_article')\n",
    "df_final = normalize_spaces(df_final, 'source_article')"
   ]
  },
  {
   "cell_type": "code",
   "execution_count": 6,
   "id": "b3e72f32",
   "metadata": {},
   "outputs": [],
   "source": [
    "# Apply quote normalization to all dataframes\n",
    "df_original = normalize_quotes(df_original, 'source_article')\n",
    "df_reviwed = normalize_quotes(df_reviwed, 'source_article')\n",
    "df_final = normalize_quotes(df_final, 'source_article')"
   ]
  },
  {
   "cell_type": "code",
   "execution_count": 7,
   "id": "89b1f982",
   "metadata": {},
   "outputs": [],
   "source": [
    "df_original.drop_duplicates(['source_article'], inplace=True, ignore_index=True)\n",
    "df_reviwed.drop_duplicates(['source_article'], inplace=True, ignore_index=True)\n",
    "df_final.drop_duplicates(['source_article'], inplace=True, ignore_index=True)"
   ]
  },
  {
   "cell_type": "code",
   "execution_count": 8,
   "id": "f1dacb0b",
   "metadata": {},
   "outputs": [],
   "source": [
    "df_original.to_csv('edu_all_processed.csv', index=False)\n",
    "df_reviwed.to_csv('edu_all_fixed_processed.csv', index=False)\n",
    "df_final.to_csv('edu_all_processed_FINAL.csv', index=False)"
   ]
  }
 ],
 "metadata": {
  "kernelspec": {
   "display_name": ".venv",
   "language": "python",
   "name": "python3"
  },
  "language_info": {
   "codemirror_mode": {
    "name": "ipython",
    "version": 3
   },
   "file_extension": ".py",
   "mimetype": "text/x-python",
   "name": "python",
   "nbconvert_exporter": "python",
   "pygments_lexer": "ipython3",
   "version": "3.11.11"
  }
 },
 "nbformat": 4,
 "nbformat_minor": 5
}
